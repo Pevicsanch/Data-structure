{
 "cells": [
  {
   "cell_type": "markdown",
   "id": "af6190f9-133e-499e-bf81-b965683a5940",
   "metadata": {},
   "source": [
    "# IT Academy - Data Science Itinerary"
   ]
  },
  {
   "cell_type": "markdown",
   "id": "f7f103eb-08ee-421f-9272-01be912e0b16",
   "metadata": {},
   "source": [
    "## S02-T01: Data structure\n"
   ]
  },
  {
   "cell_type": "markdown",
   "id": "7f60943f-426e-4539-a813-dc3a5a8d3df9",
   "metadata": {},
   "source": [
    "\n",
    "**1 :**\n",
    "\n",
    "Create a list that groups the months of the year into quarters (Q1: January, February and March, Q2: April, May, June ...), that is, a list with 4 lists inside.\n"
   ]
  },
  {
   "cell_type": "code",
   "execution_count": 1,
   "id": "3bd379ac-a45d-430e-a812-7764607a4720",
   "metadata": {},
   "outputs": [],
   "source": [
    "months = [['January', 'February', 'March'],\n",
    "            ['April', 'May', 'June'],\n",
    "            ['July', 'August', 'September'],\n",
    "          ['October', 'November', 'December']]"
   ]
  },
  {
   "cell_type": "markdown",
   "id": "74b3ba54-824d-415f-b7fd-cc0a55781582",
   "metadata": {},
   "source": [
    "**2:**\n",
    "\n",
    "Create a code that allows you to acces: \n",
    "+ 2.1. the second month of the first quarter.\n",
    "+ 2.2 the months of the first quarter.\n",
    "+ 2.3 september and october.\n",
    "\n"
   ]
  },
  {
   "cell_type": "markdown",
   "id": "47d71274-0d1e-4ce4-b69e-6845cad788e5",
   "metadata": {},
   "source": [
    "+ 2.1. the second month of the first quarter.\n"
   ]
  },
  {
   "cell_type": "code",
   "execution_count": 2,
   "id": "51be7e0d-57ce-4bda-b52c-f76861e2007d",
   "metadata": {},
   "outputs": [
    {
     "name": "stdout",
     "output_type": "stream",
     "text": [
      "February\n"
     ]
    }
   ],
   "source": [
    "m2_q1 = months[0][1]\n",
    "\n",
    "print(m2_q1)"
   ]
  },
  {
   "cell_type": "markdown",
   "id": "120da2d9-427b-43f4-9632-d6d338c9ea21",
   "metadata": {},
   "source": [
    "+ 2.2 the months of the first quarter.\n"
   ]
  },
  {
   "cell_type": "code",
   "execution_count": 3,
   "id": "28122440-4574-4944-a8a5-c05d11caee3e",
   "metadata": {},
   "outputs": [
    {
     "name": "stdout",
     "output_type": "stream",
     "text": [
      "['January', 'February', 'March']\n"
     ]
    }
   ],
   "source": [
    "q1_all = months[0]\n",
    "\n",
    "print(q1_all)"
   ]
  },
  {
   "cell_type": "code",
   "execution_count": 4,
   "id": "4ca0f1a2-fc43-4f21-a5e0-7f76dae337a0",
   "metadata": {},
   "outputs": [
    {
     "name": "stdout",
     "output_type": "stream",
     "text": [
      "January\n",
      "February\n",
      "March\n"
     ]
    }
   ],
   "source": [
    "for month in q1_all:\n",
    "    print(month)"
   ]
  },
  {
   "cell_type": "markdown",
   "id": "a417826d-5f02-4168-9c7c-ee3e8deda097",
   "metadata": {},
   "source": [
    "+ 2.3 september and october.\n"
   ]
  },
  {
   "cell_type": "code",
   "execution_count": 5,
   "id": "a044cbfc-d2eb-439d-9b93-bb7d3b310b9d",
   "metadata": {},
   "outputs": [
    {
     "name": "stdout",
     "output_type": "stream",
     "text": [
      "2 2\n",
      "September\n"
     ]
    }
   ],
   "source": [
    "a = \"September\"\n",
    "a_month_index = []\n",
    "for quarter in months:\n",
    "    if a in quarter:\n",
    "        i = months.index(quarter)    \n",
    "    for month in quarter:\n",
    "        if a in month:\n",
    "            j = quarter.index(month)\n",
    "            a_month_index.append(quarter.index(month))\n",
    "\n",
    "print(i,j) # i,j is used to find the index of values in a list \"months\"\n",
    "print(months[i][j])"
   ]
  },
  {
   "cell_type": "code",
   "execution_count": 6,
   "id": "f7ea6f60-1c16-4289-8839-605b9391e257",
   "metadata": {},
   "outputs": [
    {
     "name": "stdout",
     "output_type": "stream",
     "text": [
      "3 0\n",
      "October\n"
     ]
    }
   ],
   "source": [
    "a = \"October\"\n",
    "\n",
    "for quarter in months:\n",
    "    if a in quarter:\n",
    "        i = months.index(quarter)    \n",
    "    for month in quarter:\n",
    "        if a in month:\n",
    "            j = quarter.index(month)\n",
    "            a_month_index.append(quarter.index(month))\n",
    "print(i,j) \n",
    "print(months[i][j])"
   ]
  },
  {
   "cell_type": "markdown",
   "id": "18f660af-3e81-4995-b40f-8a62999fa314",
   "metadata": {},
   "source": [
    "**3:**\n",
    "\n",
    "Create a list of disordered numbers and answer the following questions:\n",
    "\n",
    "+ 3.1 How many numbers are there?\n",
    "+ 3.2 How many times does the number 3 appear\n",
    "+ 3.3 How often do the numbers 3 and 4 appear?\n",
    "+ 3.4 What is the largest number?\n",
    "+ 3.5 What are the 3 smallest numbers?\n",
    "+ 3.6 What is the range of this list?\n",
    "\n"
   ]
  },
  {
   "cell_type": "markdown",
   "id": "4c040a68-4815-4db9-8106-7bc9b0887fba",
   "metadata": {},
   "source": [
    "+ 3.1 \n",
    "\n",
    "We can use the sample() method available in random module to directly generate a list of random numbers"
   ]
  },
  {
   "cell_type": "code",
   "execution_count": 7,
   "id": "4c90d7d7-3131-4961-b444-6998aa10a2e0",
   "metadata": {},
   "outputs": [
    {
     "name": "stdout",
     "output_type": "stream",
     "text": [
      "[60, 63, 51, 49, 76, 88, 13, 68, 83, 54, 66, 27, 53, 50, 98, 75, 56, 97, 30, 35, 69, 95, 19, 62, 7, 79, 84, 10, 71, 43]\n"
     ]
    },
    {
     "data": {
      "text/plain": [
       "30"
      ]
     },
     "execution_count": 7,
     "metadata": {},
     "output_type": "execute_result"
    }
   ],
   "source": [
    "import random\n",
    "\n",
    "randomlist = random.sample(range(1, 100), 30)\n",
    "print(randomlist)\n",
    "len(randomlist)   # returns the number of items of an object."
   ]
  },
  {
   "cell_type": "markdown",
   "id": "8515c1e7-7280-4517-8aa6-3b847c357bf7",
   "metadata": {},
   "source": [
    "+ 3.2\n",
    "We can use the count() method to returns the number of elements with the specified value."
   ]
  },
  {
   "cell_type": "code",
   "execution_count": 8,
   "id": "3d5068c6-5790-448e-bd20-161924e4c5ba",
   "metadata": {},
   "outputs": [
    {
     "name": "stdout",
     "output_type": "stream",
     "text": [
      "0\n"
     ]
    }
   ],
   "source": [
    "print(randomlist.count(3))"
   ]
  },
  {
   "cell_type": "markdown",
   "id": "4140a6cd-f81a-4f58-b044-962421b25d07",
   "metadata": {},
   "source": [
    "+ 3.4 With the max() function we can find the largest item in an list"
   ]
  },
  {
   "cell_type": "code",
   "execution_count": 9,
   "id": "cfb8e8b3-1f5e-498d-b6b0-d12567382a92",
   "metadata": {},
   "outputs": [
    {
     "name": "stdout",
     "output_type": "stream",
     "text": [
      "98\n"
     ]
    }
   ],
   "source": [
    "print(max(randomlist))"
   ]
  },
  {
   "cell_type": "markdown",
   "id": "69c733e5-9f04-4e38-9ee2-ba4b7c9e68c6",
   "metadata": {},
   "source": [
    "+ 3.5 Using sorted() function the list in ascending order and print the 3 smallest element in the list\n"
   ]
  },
  {
   "cell_type": "code",
   "execution_count": 10,
   "id": "f8360d09-5e59-4d3b-a46f-2e543f508eb9",
   "metadata": {},
   "outputs": [
    {
     "name": "stdout",
     "output_type": "stream",
     "text": [
      "[7, 10, 13]\n"
     ]
    }
   ],
   "source": [
    "print(sorted(randomlist)[0:3])"
   ]
  },
  {
   "cell_type": "markdown",
   "id": "3dd38ed8-bc31-4551-b06b-2c9e799416d0",
   "metadata": {},
   "source": [
    "+ 3.6 the range difference between the smallest and highest numbers in a list or set."
   ]
  },
  {
   "cell_type": "code",
   "execution_count": 11,
   "id": "99ec39d5-962f-457b-ad9f-01fd9087693f",
   "metadata": {},
   "outputs": [
    {
     "name": "stdout",
     "output_type": "stream",
     "text": [
      "91\n"
     ]
    }
   ],
   "source": [
    "range =(max(randomlist)-min(randomlist))\n",
    "print(range)"
   ]
  },
  {
   "cell_type": "markdown",
   "id": "766710ed-1af6-4257-aa15-d0d3560930eb",
   "metadata": {},
   "source": [
    "\n",
    "**4 :**\n",
    "\n",
    "Create a dictionary as follows:\n",
    "\n",
    "compra = {\"Pomes\": {\"Qty\": 5, \"€\": 0.42}, \"Peres\": {\"Qty\": 3, \"€\": 0.66}}\n",
    "\n",
    "and answer the questions:\n",
    "\n",
    "+ 4.1 Add some more fruit\n",
    "+ 4.2 How much did the pears cost in total?\n",
    "+ 4.3 How many fruits did we buy in total?\n",
    "+ 4.4 What is the most expensive fruit?\n"
   ]
  },
  {
   "cell_type": "markdown",
   "id": "d0a2896f-0ac7-4eec-8896-44df2f43fa8d",
   "metadata": {},
   "source": [
    "+ 4.1:"
   ]
  },
  {
   "cell_type": "code",
   "execution_count": 12,
   "id": "958e2067-3193-4218-b673-c73957f06b31",
   "metadata": {},
   "outputs": [
    {
     "name": "stdout",
     "output_type": "stream",
     "text": [
      "{'Pomes': {'Qty': 5, '€': 0.42}, 'Peres': {'Qty': 3, '€': 0.66}}\n"
     ]
    }
   ],
   "source": [
    "compra = {\"Pomes\": {\"Qty\": 5, \"€\": 0.42}, \"Peres\": {\"Qty\": 3, \"€\": 0.66}}\n",
    "print(compra)"
   ]
  },
  {
   "cell_type": "code",
   "execution_count": 13,
   "id": "eac24189-359e-4f2c-960c-50415c4e36d5",
   "metadata": {},
   "outputs": [],
   "source": [
    "compra[\"Bananas\"]= {\"Qty\": 3, \"€\": 0.43}\n",
    "compra[\"Uvas\"]= {\"Qty\": 2, \"€\": 0.55}\n",
    "compra[\"Melocoton\"]= {\"Qty\": 5, \"€\": 0.52}"
   ]
  },
  {
   "cell_type": "code",
   "execution_count": 14,
   "id": "85f2c3b6-e53b-4b5b-97a7-f98f1c5bd8f1",
   "metadata": {},
   "outputs": [
    {
     "name": "stdout",
     "output_type": "stream",
     "text": [
      "{'Pomes': {'Qty': 5, '€': 0.42}, 'Peres': {'Qty': 3, '€': 0.66}, 'Bananas': {'Qty': 3, '€': 0.43}, 'Uvas': {'Qty': 2, '€': 0.55}, 'Melocoton': {'Qty': 5, '€': 0.52}}\n"
     ]
    }
   ],
   "source": [
    "print(compra)"
   ]
  },
  {
   "cell_type": "markdown",
   "id": "e040901b-372e-47a0-ad11-4d25f7f7e3e8",
   "metadata": {},
   "source": [
    "+ 4.2"
   ]
  },
  {
   "cell_type": "code",
   "execution_count": 15,
   "id": "2cd732ea-c6ae-4143-b646-70f3b800d236",
   "metadata": {},
   "outputs": [
    {
     "name": "stdout",
     "output_type": "stream",
     "text": [
      "1.98\n"
     ]
    }
   ],
   "source": [
    "cost = compra[\"Peres\"][\"Qty\"]*compra[\"Peres\"][\"€\"]\n",
    "print(cost)"
   ]
  },
  {
   "cell_type": "markdown",
   "id": "5049f75f-151c-4fc0-b4f2-a46b6f599d36",
   "metadata": {},
   "source": [
    "+ 4.3"
   ]
  },
  {
   "cell_type": "code",
   "execution_count": 16,
   "id": "2394e1de-2197-4e9e-95e1-ba102fb53f02",
   "metadata": {},
   "outputs": [
    {
     "name": "stdout",
     "output_type": "stream",
     "text": [
      "18\n"
     ]
    }
   ],
   "source": [
    "total = 0\n",
    "\n",
    "for k, v in compra.items():\n",
    "     total += v[\"Qty\"]\n",
    "print(total)\n",
    "\n"
   ]
  },
  {
   "cell_type": "markdown",
   "id": "06460cc6-4b84-4787-8418-f710bbfeb531",
   "metadata": {},
   "source": [
    "+ 4.4"
   ]
  },
  {
   "cell_type": "code",
   "execution_count": 17,
   "id": "e8eb206f-8023-4b2e-b6ee-7c3f829ecb43",
   "metadata": {},
   "outputs": [
    {
     "name": "stdout",
     "output_type": "stream",
     "text": [
      "0.66\n"
     ]
    }
   ],
   "source": [
    "fruit_price = []\n",
    "\n",
    "for k, v in compra.items():\n",
    "    fruit_price.append(v[\"€\"])\n",
    "\n",
    "print(max(fruit_price)) #the most expensive price"
   ]
  },
  {
   "cell_type": "code",
   "execution_count": 18,
   "id": "85288a2f-fcc9-4087-b6e7-59f28bc3e7d8",
   "metadata": {},
   "outputs": [
    {
     "name": "stdout",
     "output_type": "stream",
     "text": [
      "Peres\n"
     ]
    }
   ],
   "source": [
    "for k, v in compra.items():\n",
    "    if v[\"€\"] == max(fruit_price):\n",
    "        print(k) #the name of the key of the most expensive price"
   ]
  },
  {
   "cell_type": "code",
   "execution_count": null,
   "id": "058bdc99-9ed2-41f6-a73c-d49c626036a8",
   "metadata": {},
   "outputs": [],
   "source": []
  }
 ],
 "metadata": {
  "kernelspec": {
   "display_name": "Python 3",
   "language": "python",
   "name": "python3"
  },
  "language_info": {
   "codemirror_mode": {
    "name": "ipython",
    "version": 3
   },
   "file_extension": ".py",
   "mimetype": "text/x-python",
   "name": "python",
   "nbconvert_exporter": "python",
   "pygments_lexer": "ipython3",
   "version": "3.8.8"
  }
 },
 "nbformat": 4,
 "nbformat_minor": 5
}
